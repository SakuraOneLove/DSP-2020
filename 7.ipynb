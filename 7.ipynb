{
 "cells": [
  {
   "cell_type": "markdown",
   "metadata": {},
   "source": [
    "# 1. Подготовительные операции"
   ]
  },
  {
   "cell_type": "markdown",
   "metadata": {},
   "source": [
    "# 1.1. Инициализация"
   ]
  },
  {
   "cell_type": "code",
   "execution_count": 359,
   "metadata": {
    "scrolled": true
   },
   "outputs": [],
   "source": [
    "import numpy as np\n",
    "import matplotlib.pyplot as plt \n",
    "from matplotlib import rcParams\n",
    "import matplotlib.colors as clr \n",
    "\n",
    "def getComplexDomain(halfdim, scale) -> np.ndarray:\n",
    "\n",
    "    a = np.arange(-halfdim, halfdim)\n",
    "    z = np.zeros(shape=(2*halfdim, 2*halfdim), dtype=complex)\n",
    "    \n",
    "    for j in np.arange(0, 2*halfdim):\n",
    "        z[j,] = (a+(j-halfdim+2)*1j).astype(complex)\n",
    "        \n",
    "    Z = np.zeros(shape=(2*halfdim, 1), dtype=complex)\n",
    "        \n",
    "    for k, n in enumerate(z):\n",
    "        Z[k][0] = n[0]*scale\n",
    "\n",
    "    return Z\n",
    "\n",
    "def wrapTo2Pi(Lambdas):\n",
    "    \n",
    "    wrapped = Lambdas\n",
    "    \n",
    "    for k, n in enumerate(Lambdas):\n",
    "        positiveInput = (n > 0);\n",
    "        wrapped[k] = np.mod(n, 2*np.pi);\n",
    "\n",
    "        if n == 0 & positiveInput:\n",
    "            wrapped[k] = 2*np.pi;\n",
    "\n",
    "    return wrapped\n",
    "\n",
    "\n",
    "# Графики непосредственно в ноутбуке\n",
    "%matplotlib inline\n",
    "\n",
    "fontName = \"Liberation Serif\"    # Название шрифта\n",
    "rcParams[\"mathtext.fontset\"] = \"custom\" # Пользовательские параметры графика\n",
    "rcParams[\"mathtext.rm\"] = fontName  # Обычный стиль\n",
    "rcParams[\"mathtext.bf\"] = fontName + \":bold\"    # Жирный\n",
    "rcParams[\"mathtext.it\"] = fontName + \":italic\"  # Курсив\n",
    "\n",
    "fontSize=10 # Размер шрифта графиков\n",
    "fontType='' # Тип шрифта графиков\n",
    "# Цвет графиков\n",
    "tColor = \"#0000FF\"  # Цвет графиков во временной области (синий)\n",
    "tColorLight = \"#4DB3E6\"   # Временная область (голубой)\n",
    "Color0 = \"#FF0000\"  # Цвет графиков эталонного сигнала (красный)\n",
    "fColor=\"#FF6600\"; # Цвет графиков в частотной области\n",
    "eColor = \"#D95319\"    # Погрешности\n",
    "eColorLight = \"#E6E666\"   # Погрешности\n",
    "eColorDark = \"#A2142F\"    # Погрешности"
   ]
  },
  {
   "cell_type": "markdown",
   "metadata": {},
   "source": [
    "# 1.2 Формирование значений основных параметров"
   ]
  },
  {
   "cell_type": "code",
   "execution_count": 178,
   "metadata": {
    "scrolled": true
   },
   "outputs": [],
   "source": [
    "# Параметры области определения функций\n",
    "nMax=300 # Количество отсчетов по каждой полуоси\n",
    "nScale=.1 # Коэффициент масштабирования\n",
    "\n",
    "# Время запуска текста в видео, с\n",
    "startText0=5\n",
    "startText1=10\n",
    "frameRate=25 # Частота кадрирования\n",
    "videoDuration=15 # Длительность видео\n",
    "fCount=frameRate*videoDuration # Количество кадров"
   ]
  },
  {
   "cell_type": "markdown",
   "metadata": {},
   "source": [
    "# 2. Моделирование комплексных сигналов"
   ]
  },
  {
   "cell_type": "markdown",
   "metadata": {},
   "source": [
    "# 2.1. Графическое изображение функции f(z)=z"
   ]
  },
  {
   "cell_type": "code",
   "execution_count": 371,
   "metadata": {
    "scrolled": false
   },
   "outputs": [
    {
     "data": {
      "image/png": "[encoded data removed]",
      "text/plain": [
       "<Figure size 432x288 with 1 Axes>"
      ]
     },
     "metadata": {
      "needs_background": "light"
     },
     "output_type": "display_data"
    }
   ],
   "source": [
    "# Формирование изображения комплексной функции\n",
    "# f(z)=z\n",
    "z = getComplexDomain(nMax, nScale) # Область определения\n",
    "f = z; # Формирование значений\n",
    "# Формирование изображения HSV\n",
    "hsv1 = np.zeros(shape=(2*nMax, 2*nMax, 3))\n",
    "hsv1[:][:][0] = wrapTo2Pi(np.angle(f))/(2*np.pi) # Тон\n",
    "hsv1[:][:][1] = 1 # Насыщенность\n",
    "hsv1[:][:][2] = np.divide(np.abs(f), np.max(np.abs(f))) # Яркость\n",
    "     \n",
    "rgb1 = clr.hsv_to_rgb(hsv1) # Преобразование в формат RGB\n",
    "plt.imshow(rgb1); # Визуализация"
   ]
  }
 ],
 "metadata": {
  "kernelspec": {
   "display_name": "Python 3",
   "language": "python",
   "name": "python3"
  },
  "language_info": {
   "codemirror_mode": {
    "name": "ipython",
    "version": 3
   },
   "file_extension": ".py",
   "mimetype": "text/x-python",
   "name": "python",
   "nbconvert_exporter": "python",
   "pygments_lexer": "ipython3",
   "version": "3.7.6"
  }
 },
 "nbformat": 4,
 "nbformat_minor": 4
}
