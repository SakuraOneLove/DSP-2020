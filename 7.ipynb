{
 "cells": [
  {
   "cell_type": "markdown",
   "metadata": {},
   "source": [
    "# 1.Подготовительные операции\n",
    "## 1.1.Инициализация"
   ]
  },
  {
   "cell_type": "code",
   "execution_count": 15,
   "metadata": {
    "scrolled": true
   },
   "outputs": [],
   "source": [
    "import numpy as np\n",
    "import matplotlib.pyplot as plt \n",
    "from matplotlib import rcParams\n",
    "import matplotlib.colors as clr\n",
    "import extrafuncs as extra"
   ]
  },
  {
   "cell_type": "code",
   "execution_count": 16,
   "metadata": {},
   "outputs": [],
   "source": [
    "# Графики непосредственно в ноутбуке\n",
    "%matplotlib inline"
   ]
  },
  {
   "cell_type": "code",
   "execution_count": 17,
   "metadata": {},
   "outputs": [],
   "source": [
    "# Настройка параметров шрифта\n",
    "# и настройка LaTex для вставки в заголовки на графике\n",
    "\n",
    "fontName = \"Liberation Serif\"    # Название шрифта\n",
    "rcParams[\"mathtext.fontset\"] = \"custom\" # Пользовательские параметры графика\n",
    "rcParams[\"mathtext.rm\"] = fontName  # Обычный стиль\n",
    "rcParams[\"mathtext.bf\"] = \"{}:bold\".format(fontName)    # Жирный\n",
    "rcParams[\"mathtext.it\"] = \"{}:italic\".format(fontName)  # Курсив\n",
    "fontSize=10 # Размер шрифта графиков\n",
    "fontType='' # Тип шрифта графиков"
   ]
  },
  {
   "cell_type": "code",
   "execution_count": 18,
   "metadata": {},
   "outputs": [],
   "source": [
    "# Параметры графика\n",
    "\n",
    "PIC_SIZE = (10, 6)  # Размер графика\n",
    "PIC_DENSITY = 80    # Плотность пикселей графика\n",
    "# Цвет графиков\n",
    "tColor = \"#0000FF\"  # Цвет графиков во временной области (синий)\n",
    "tColorLight = \"#4DB3E6\"   # Временная область (голубой)\n",
    "Color0 = \"#FF0000\"  # Цвет графиков эталонного сигнала (красный)\n",
    "fColor=\"#FF6600\"; # Цвет графиков в частотной области\n",
    "eColor = \"#D95319\"    # Погрешности\n",
    "eColorLight = \"#E6E666\"   # Погрешности\n",
    "eColorDark = \"#A2142F\"    # Погрешности"
   ]
  },
  {
   "cell_type": "markdown",
   "metadata": {},
   "source": [
    "## 1.2 Формирование значений основных параметров"
   ]
  },
  {
   "cell_type": "code",
   "execution_count": 19,
   "metadata": {
    "scrolled": true
   },
   "outputs": [],
   "source": [
    "# Параметры области определения функций\n",
    "nMax=300 # Количество отсчетов по каждой полуоси\n",
    "nScale=.1 # Коэффициент масштабирования\n",
    "\n",
    "# Время запуска текста в видео, с\n",
    "startText0=5\n",
    "startText1=10\n",
    "frameRate=25 # Частота кадрирования\n",
    "videoDuration=15 # Длительность видео\n",
    "fCount=frameRate*videoDuration # Количество кадров"
   ]
  },
  {
   "cell_type": "markdown",
   "metadata": {},
   "source": [
    "# 2. Моделирование комплексных сигналов\n",
    "## 2.1. Графическое изображение функции f(z)=z"
   ]
  },
  {
   "cell_type": "code",
   "execution_count": 20,
   "metadata": {
    "scrolled": false
   },
   "outputs": [],
   "source": [
    "# Формирование изображения комплексной функции\n",
    "# f(z)=z\n",
    "z = extra.getComplexDomain(nMax, nScale) # Область определения\n",
    "f = z; # Формирование значений\n",
    "# Формирование изображения HSV\n",
    "hsv1 = np.zeros(shape=(2*nMax, 2*nMax, 3))\n",
    "hsv1[:,:,0] = extra.wrapTo2Pi(np.angle(f))/(2*np.pi) # Тон\n",
    "hsv1[:,:,1] = 1 # Насыщенность\n",
    "hsv1[:,:,2] = np.divide(np.abs(f), np.max(np.abs(f))) # Яркость\n",
    "rgb1 = clr.hsv_to_rgb(hsv1) # Преобразование в формат RGB"
   ]
  },
  {
   "cell_type": "code",
   "execution_count": 21,
   "metadata": {},
   "outputs": [
    {
     "output_type": "display_data",
     "data": {
      "text/plain": "<Figure size 800x480 with 1 Axes>",
      "image/svg+xml": "<?xml version=\"1.0\" encoding=\"utf-8\" standalone=\"no\"?>\n<!DOCTYPE svg PUBLIC \"-//W3C//DTD SVG 1.1//EN\"\n  \"http://www.w3.org/Graphics/SVG/1.1/DTD/svg11.dtd\">\n<!-- Created with matplotlib (https://matplotlib.org/) -->\n<svg height=\"360.765544pt\" version=\"1.1\" viewBox=\"0 0 366.6475 360.765544\" width=\"366.6475pt\" xmlns=\"http://www.w3.org/2000/svg\" xmlns:xlink=\"http://www.w3.org/1999/xlink\">\n <defs>\n  <style type=\"text/css\">\n*{stroke-linecap:butt;stroke-linejoin:round;}\n  </style>\n </defs>\n <g id=\"figure_1\">\n  <g id=\"patch_1\">\n   <path d=\"M 0 360.765544 \nL 366.6475 360.765544 \nL 366.6475 0 \nL 0 0 \nz\n\" style=\"fill:none;\"/>\n  </g>\n  <g id=\"axes_1\">\n   <g id=\"patch_2\">\n    <path d=\"M 33.2875 336.887419 \nL 359.4475 336.887419 \nL 359.4475 10.727419 \nL 33.2875 10.727419 \nz\n\" style=\"fill:#ffffff;\"/>\n   </g>\n   <g clip-path=\"url(#p6a2ad96994)\">\n    <image height=\"326.7\" id=\"imagef740963c68\" transform=\"scale(1 -1)translate(0 -326.7)\" width=\"326.7\" x=\"33.2875\" xlink:href=\"data:image/png;base64,\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\" y=\"-10.187419\"/>\n   </g>\n   <g id=\"matplotlib.axis_1\">\n    <g id=\"xtick_1\">\n     <g id=\"line2d_1\">\n      <defs>\n       <path d=\"M 0 0 \nL 0 3.5 \n\" id=\"m5b925d912e\" style=\"stroke:#000000;stroke-width:0.8;\"/>\n      </defs>\n      <g>\n       <use style=\"stroke:#000000;stroke-width:0.8;\" x=\"33.5593\" xlink:href=\"#m5b925d912e\" y=\"336.887419\"/>\n      </g>\n     </g>\n     <g id=\"text_1\">\n      <!-- 0 -->\n      <defs>\n       <path d=\"M 31.78125 66.40625 \nQ 24.171875 66.40625 20.328125 58.90625 \nQ 16.5 51.421875 16.5 36.375 \nQ 16.5 21.390625 20.328125 13.890625 \nQ 24.171875 6.390625 31.78125 6.390625 \nQ 39.453125 6.390625 43.28125 13.890625 \nQ 47.125 21.390625 47.125 36.375 \nQ 47.125 51.421875 43.28125 58.90625 \nQ 39.453125 66.40625 31.78125 66.40625 \nz\nM 31.78125 74.21875 \nQ 44.046875 74.21875 50.515625 64.515625 \nQ 56.984375 54.828125 56.984375 36.375 \nQ 56.984375 17.96875 50.515625 8.265625 \nQ 44.046875 -1.421875 31.78125 -1.421875 \nQ 19.53125 -1.421875 13.0625 8.265625 \nQ 6.59375 17.96875 6.59375 36.375 \nQ 6.59375 54.828125 13.0625 64.515625 \nQ 19.53125 74.21875 31.78125 74.21875 \nz\n\" id=\"DejaVuSans-48\"/>\n      </defs>\n      <g transform=\"translate(30.37805 351.485856)scale(0.1 -0.1)\">\n       <use xlink:href=\"#DejaVuSans-48\"/>\n      </g>\n     </g>\n    </g>\n    <g id=\"xtick_2\">\n     <g id=\"line2d_2\">\n      <g>\n       <use style=\"stroke:#000000;stroke-width:0.8;\" x=\"87.9193\" xlink:href=\"#m5b925d912e\" y=\"336.887419\"/>\n      </g>\n     </g>\n     <g id=\"text_2\">\n      <!-- 100 -->\n      <defs>\n       <path d=\"M 12.40625 8.296875 \nL 28.515625 8.296875 \nL 28.515625 63.921875 \nL 10.984375 60.40625 \nL 10.984375 69.390625 \nL 28.421875 72.90625 \nL 38.28125 72.90625 \nL 38.28125 8.296875 \nL 54.390625 8.296875 \nL 54.390625 0 \nL 12.40625 0 \nz\n\" id=\"DejaVuSans-49\"/>\n      </defs>\n      <g transform=\"translate(78.37555 351.485856)scale(0.1 -0.1)\">\n       <use xlink:href=\"#DejaVuSans-49\"/>\n       <use x=\"63.623047\" xlink:href=\"#DejaVuSans-48\"/>\n       <use x=\"127.246094\" xlink:href=\"#DejaVuSans-48\"/>\n      </g>\n     </g>\n    </g>\n    <g id=\"xtick_3\">\n     <g id=\"line2d_3\">\n      <g>\n       <use style=\"stroke:#000000;stroke-width:0.8;\" x=\"142.2793\" xlink:href=\"#m5b925d912e\" y=\"336.887419\"/>\n      </g>\n     </g>\n     <g id=\"text_3\">\n      <!-- 200 -->\n      <defs>\n       <path d=\"M 19.1875 8.296875 \nL 53.609375 8.296875 \nL 53.609375 0 \nL 7.328125 0 \nL 7.328125 8.296875 \nQ 12.9375 14.109375 22.625 23.890625 \nQ 32.328125 33.6875 34.8125 36.53125 \nQ 39.546875 41.84375 41.421875 45.53125 \nQ 43.3125 49.21875 43.3125 52.78125 \nQ 43.3125 58.59375 39.234375 62.25 \nQ 35.15625 65.921875 28.609375 65.921875 \nQ 23.96875 65.921875 18.8125 64.3125 \nQ 13.671875 62.703125 7.8125 59.421875 \nL 7.8125 69.390625 \nQ 13.765625 71.78125 18.9375 73 \nQ 24.125 74.21875 28.421875 74.21875 \nQ 39.75 74.21875 46.484375 68.546875 \nQ 53.21875 62.890625 53.21875 53.421875 \nQ 53.21875 48.921875 51.53125 44.890625 \nQ 49.859375 40.875 45.40625 35.40625 \nQ 44.1875 33.984375 37.640625 27.21875 \nQ 31.109375 20.453125 19.1875 8.296875 \nz\n\" id=\"DejaVuSans-50\"/>\n      </defs>\n      <g transform=\"translate(132.73555 351.485856)scale(0.1 -0.1)\">\n       <use xlink:href=\"#DejaVuSans-50\"/>\n       <use x=\"63.623047\" xlink:href=\"#DejaVuSans-48\"/>\n       <use x=\"127.246094\" xlink:href=\"#DejaVuSans-48\"/>\n      </g>\n     </g>\n    </g>\n    <g id=\"xtick_4\">\n     <g id=\"line2d_4\">\n      <g>\n       <use style=\"stroke:#000000;stroke-width:0.8;\" x=\"196.6393\" xlink:href=\"#m5b925d912e\" y=\"336.887419\"/>\n      </g>\n     </g>\n     <g id=\"text_4\">\n      <!-- 300 -->\n      <defs>\n       <path d=\"M 40.578125 39.3125 \nQ 47.65625 37.796875 51.625 33 \nQ 55.609375 28.21875 55.609375 21.1875 \nQ 55.609375 10.40625 48.1875 4.484375 \nQ 40.765625 -1.421875 27.09375 -1.421875 \nQ 22.515625 -1.421875 17.65625 -0.515625 \nQ 12.796875 0.390625 7.625 2.203125 \nL 7.625 11.71875 \nQ 11.71875 9.328125 16.59375 8.109375 \nQ 21.484375 6.890625 26.8125 6.890625 \nQ 36.078125 6.890625 40.9375 10.546875 \nQ 45.796875 14.203125 45.796875 21.1875 \nQ 45.796875 27.640625 41.28125 31.265625 \nQ 36.765625 34.90625 28.71875 34.90625 \nL 20.21875 34.90625 \nL 20.21875 43.015625 \nL 29.109375 43.015625 \nQ 36.375 43.015625 40.234375 45.921875 \nQ 44.09375 48.828125 44.09375 54.296875 \nQ 44.09375 59.90625 40.109375 62.90625 \nQ 36.140625 65.921875 28.71875 65.921875 \nQ 24.65625 65.921875 20.015625 65.03125 \nQ 15.375 64.15625 9.8125 62.3125 \nL 9.8125 71.09375 \nQ 15.4375 72.65625 20.34375 73.4375 \nQ 25.25 74.21875 29.59375 74.21875 \nQ 40.828125 74.21875 47.359375 69.109375 \nQ 53.90625 64.015625 53.90625 55.328125 \nQ 53.90625 49.265625 50.4375 45.09375 \nQ 46.96875 40.921875 40.578125 39.3125 \nz\n\" id=\"DejaVuSans-51\"/>\n      </defs>\n      <g transform=\"translate(187.09555 351.485856)scale(0.1 -0.1)\">\n       <use xlink:href=\"#DejaVuSans-51\"/>\n       <use x=\"63.623047\" xlink:href=\"#DejaVuSans-48\"/>\n       <use x=\"127.246094\" xlink:href=\"#DejaVuSans-48\"/>\n      </g>\n     </g>\n    </g>\n    <g id=\"xtick_5\">\n     <g id=\"line2d_5\">\n      <g>\n       <use style=\"stroke:#000000;stroke-width:0.8;\" x=\"250.9993\" xlink:href=\"#m5b925d912e\" y=\"336.887419\"/>\n      </g>\n     </g>\n     <g id=\"text_5\">\n      <!-- 400 -->\n      <defs>\n       <path d=\"M 37.796875 64.3125 \nL 12.890625 25.390625 \nL 37.796875 25.390625 \nz\nM 35.203125 72.90625 \nL 47.609375 72.90625 \nL 47.609375 25.390625 \nL 58.015625 25.390625 \nL 58.015625 17.1875 \nL 47.609375 17.1875 \nL 47.609375 0 \nL 37.796875 0 \nL 37.796875 17.1875 \nL 4.890625 17.1875 \nL 4.890625 26.703125 \nz\n\" id=\"DejaVuSans-52\"/>\n      </defs>\n      <g transform=\"translate(241.45555 351.485856)scale(0.1 -0.1)\">\n       <use xlink:href=\"#DejaVuSans-52\"/>\n       <use x=\"63.623047\" xlink:href=\"#DejaVuSans-48\"/>\n       <use x=\"127.246094\" xlink:href=\"#DejaVuSans-48\"/>\n      </g>\n     </g>\n    </g>\n    <g id=\"xtick_6\">\n     <g id=\"line2d_6\">\n      <g>\n       <use style=\"stroke:#000000;stroke-width:0.8;\" x=\"305.3593\" xlink:href=\"#m5b925d912e\" y=\"336.887419\"/>\n      </g>\n     </g>\n     <g id=\"text_6\">\n      <!-- 500 -->\n      <defs>\n       <path d=\"M 10.796875 72.90625 \nL 49.515625 72.90625 \nL 49.515625 64.59375 \nL 19.828125 64.59375 \nL 19.828125 46.734375 \nQ 21.96875 47.46875 24.109375 47.828125 \nQ 26.265625 48.1875 28.421875 48.1875 \nQ 40.625 48.1875 47.75 41.5 \nQ 54.890625 34.8125 54.890625 23.390625 \nQ 54.890625 11.625 47.5625 5.09375 \nQ 40.234375 -1.421875 26.90625 -1.421875 \nQ 22.3125 -1.421875 17.546875 -0.640625 \nQ 12.796875 0.140625 7.71875 1.703125 \nL 7.71875 11.625 \nQ 12.109375 9.234375 16.796875 8.0625 \nQ 21.484375 6.890625 26.703125 6.890625 \nQ 35.15625 6.890625 40.078125 11.328125 \nQ 45.015625 15.765625 45.015625 23.390625 \nQ 45.015625 31 40.078125 35.4375 \nQ 35.15625 39.890625 26.703125 39.890625 \nQ 22.75 39.890625 18.8125 39.015625 \nQ 14.890625 38.140625 10.796875 36.28125 \nz\n\" id=\"DejaVuSans-53\"/>\n      </defs>\n      <g transform=\"translate(295.81555 351.485856)scale(0.1 -0.1)\">\n       <use xlink:href=\"#DejaVuSans-53\"/>\n       <use x=\"63.623047\" xlink:href=\"#DejaVuSans-48\"/>\n       <use x=\"127.246094\" xlink:href=\"#DejaVuSans-48\"/>\n      </g>\n     </g>\n    </g>\n   </g>\n   <g id=\"matplotlib.axis_2\">\n    <g id=\"ytick_1\">\n     <g id=\"line2d_7\">\n      <defs>\n       <path d=\"M 0 0 \nL -3.5 0 \n\" id=\"mfb365e6fe2\" style=\"stroke:#000000;stroke-width:0.8;\"/>\n      </defs>\n      <g>\n       <use style=\"stroke:#000000;stroke-width:0.8;\" x=\"33.2875\" xlink:href=\"#mfb365e6fe2\" y=\"10.999219\"/>\n      </g>\n     </g>\n     <g id=\"text_7\">\n      <!-- 0 -->\n      <g transform=\"translate(19.925 14.798438)scale(0.1 -0.1)\">\n       <use xlink:href=\"#DejaVuSans-48\"/>\n      </g>\n     </g>\n    </g>\n    <g id=\"ytick_2\">\n     <g id=\"line2d_8\">\n      <g>\n       <use style=\"stroke:#000000;stroke-width:0.8;\" x=\"33.2875\" xlink:href=\"#mfb365e6fe2\" y=\"65.359219\"/>\n      </g>\n     </g>\n     <g id=\"text_8\">\n      <!-- 100 -->\n      <g transform=\"translate(7.2 69.158438)scale(0.1 -0.1)\">\n       <use xlink:href=\"#DejaVuSans-49\"/>\n       <use x=\"63.623047\" xlink:href=\"#DejaVuSans-48\"/>\n       <use x=\"127.246094\" xlink:href=\"#DejaVuSans-48\"/>\n      </g>\n     </g>\n    </g>\n    <g id=\"ytick_3\">\n     <g id=\"line2d_9\">\n      <g>\n       <use style=\"stroke:#000000;stroke-width:0.8;\" x=\"33.2875\" xlink:href=\"#mfb365e6fe2\" y=\"119.719219\"/>\n      </g>\n     </g>\n     <g id=\"text_9\">\n      <!-- 200 -->\n      <g transform=\"translate(7.2 123.518438)scale(0.1 -0.1)\">\n       <use xlink:href=\"#DejaVuSans-50\"/>\n       <use x=\"63.623047\" xlink:href=\"#DejaVuSans-48\"/>\n       <use x=\"127.246094\" xlink:href=\"#DejaVuSans-48\"/>\n      </g>\n     </g>\n    </g>\n    <g id=\"ytick_4\">\n     <g id=\"line2d_10\">\n      <g>\n       <use style=\"stroke:#000000;stroke-width:0.8;\" x=\"33.2875\" xlink:href=\"#mfb365e6fe2\" y=\"174.079219\"/>\n      </g>\n     </g>\n     <g id=\"text_10\">\n      <!-- 300 -->\n      <g transform=\"translate(7.2 177.878438)scale(0.1 -0.1)\">\n       <use xlink:href=\"#DejaVuSans-51\"/>\n       <use x=\"63.623047\" xlink:href=\"#DejaVuSans-48\"/>\n       <use x=\"127.246094\" xlink:href=\"#DejaVuSans-48\"/>\n      </g>\n     </g>\n    </g>\n    <g id=\"ytick_5\">\n     <g id=\"line2d_11\">\n      <g>\n       <use style=\"stroke:#000000;stroke-width:0.8;\" x=\"33.2875\" xlink:href=\"#mfb365e6fe2\" y=\"228.439219\"/>\n      </g>\n     </g>\n     <g id=\"text_11\">\n      <!-- 400 -->\n      <g transform=\"translate(7.2 232.238438)scale(0.1 -0.1)\">\n       <use xlink:href=\"#DejaVuSans-52\"/>\n       <use x=\"63.623047\" xlink:href=\"#DejaVuSans-48\"/>\n       <use x=\"127.246094\" xlink:href=\"#DejaVuSans-48\"/>\n      </g>\n     </g>\n    </g>\n    <g id=\"ytick_6\">\n     <g id=\"line2d_12\">\n      <g>\n       <use style=\"stroke:#000000;stroke-width:0.8;\" x=\"33.2875\" xlink:href=\"#mfb365e6fe2\" y=\"282.799219\"/>\n      </g>\n     </g>\n     <g id=\"text_12\">\n      <!-- 500 -->\n      <g transform=\"translate(7.2 286.598438)scale(0.1 -0.1)\">\n       <use xlink:href=\"#DejaVuSans-53\"/>\n       <use x=\"63.623047\" xlink:href=\"#DejaVuSans-48\"/>\n       <use x=\"127.246094\" xlink:href=\"#DejaVuSans-48\"/>\n      </g>\n     </g>\n    </g>\n   </g>\n   <g id=\"patch_3\">\n    <path d=\"M 33.2875 336.887419 \nL 33.2875 10.727419 \n\" style=\"fill:none;stroke:#000000;stroke-linecap:square;stroke-linejoin:miter;stroke-width:0.8;\"/>\n   </g>\n   <g id=\"patch_4\">\n    <path d=\"M 359.4475 336.887419 \nL 359.4475 10.727419 \n\" style=\"fill:none;stroke:#000000;stroke-linecap:square;stroke-linejoin:miter;stroke-width:0.8;\"/>\n   </g>\n   <g id=\"patch_5\">\n    <path d=\"M 33.2875 336.887419 \nL 359.4475 336.887419 \n\" style=\"fill:none;stroke:#000000;stroke-linecap:square;stroke-linejoin:miter;stroke-width:0.8;\"/>\n   </g>\n   <g id=\"patch_6\">\n    <path d=\"M 33.2875 10.727419 \nL 359.4475 10.727419 \n\" style=\"fill:none;stroke:#000000;stroke-linecap:square;stroke-linejoin:miter;stroke-width:0.8;\"/>\n   </g>\n  </g>\n </g>\n <defs>\n  <clipPath id=\"p6a2ad96994\">\n   <rect height=\"326.16\" width=\"326.16\" x=\"33.2875\" y=\"10.727419\"/>\n  </clipPath>\n </defs>\n</svg>\n",
      "image/png": "[encoded data removed]"
     },
     "metadata": {
      "needs_background": "light"
     }
    }
   ],
   "source": [
    "fig = plt.figure(figsize=PIC_SIZE, dpi=PIC_DENSITY) # Установка параметров графика\n",
    "plt.imshow(rgb1); # Визуализация"
   ]
  },
  {
   "cell_type": "code",
   "execution_count": null,
   "metadata": {},
   "outputs": [],
   "source": []
  }
 ],
 "metadata": {
  "kernelspec": {
   "display_name": "Python 3",
   "language": "python",
   "name": "python3"
  },
  "language_info": {
   "codemirror_mode": {
    "name": "ipython",
    "version": 3
   },
   "file_extension": ".py",
   "mimetype": "text/x-python",
   "name": "python",
   "nbconvert_exporter": "python",
   "pygments_lexer": "ipython3",
   "version": "3.8.2-final"
  }
 },
 "nbformat": 4,
 "nbformat_minor": 4
}